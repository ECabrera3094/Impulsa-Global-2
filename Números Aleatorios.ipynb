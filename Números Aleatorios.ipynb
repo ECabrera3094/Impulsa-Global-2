{
 "cells": [
  {
   "cell_type": "markdown",
   "metadata": {},
   "source": [
    "# Números Aleatorios"
   ]
  },
  {
   "cell_type": "markdown",
   "metadata": {},
   "source": [
    "Comúnmente, al momento de crear *Arrays*, es dificil pensar en cada uno de los elementos dentro del arreglo todo el rato que se desee gestar uno nuevo, por lo que la **Aletoridad** es la solución. Por lo general, se requiere generar números aleatorios que se escojan de manera relativamente uniforme y es por eso que NumPy posee dos Funciones útiles para estos casos."
   ]
  },
  {
   "cell_type": "markdown",
   "metadata": {},
   "source": [
    "# Función Rand"
   ]
  },
  {
   "cell_type": "markdown",
   "metadata": {},
   "source": [
    "La Función *random.rand()* genera un *Array* del tamaño indicado, obteniendo números aleatorios extraídos del intervalo [0,1) a partir de una *distribución uniforme*:"
   ]
  },
  {
   "cell_type": "code",
   "execution_count": 12,
   "metadata": {},
   "outputs": [
    {
     "data": {
      "text/plain": [
       "array([0.70693605, 0.49614381, 0.71476374, 0.72566054, 0.29865145])"
      ]
     },
     "execution_count": 12,
     "metadata": {},
     "output_type": "execute_result"
    }
   ],
   "source": [
    "import numpy as np\n",
    "\n",
    "myArray = np.random.rand(5)\n",
    "\n",
    "myArray"
   ]
  },
  {
   "cell_type": "markdown",
   "metadata": {},
   "source": [
    "A su vez se puede crear una Matriz Aleatoria declarando *Filas (m)* y *Columnas (n)*:"
   ]
  },
  {
   "cell_type": "code",
   "execution_count": 13,
   "metadata": {},
   "outputs": [
    {
     "data": {
      "text/plain": [
       "array([[0.88924885, 0.45717604, 0.39203542],\n",
       "       [0.14784324, 0.8470408 , 0.81660131],\n",
       "       [0.3258954 , 0.11157563, 0.26600743]])"
      ]
     },
     "execution_count": 13,
     "metadata": {},
     "output_type": "execute_result"
    }
   ],
   "source": [
    "import numpy as np\n",
    "\n",
    "myArray = np.random.rand(3,3)\n",
    "\n",
    "myArray"
   ]
  },
  {
   "cell_type": "markdown",
   "metadata": {},
   "source": [
    "# Función Randn"
   ]
  },
  {
   "cell_type": "markdown",
   "metadata": {},
   "source": [
    "Por su parte, la Función *random.randn* genera un *Array* del tamaño indicado, obteniendo números aleatorios extraídos del intervalo de *media 0 y varianza 1* a partir de una *distribución normal estándar*, también conocida como Gaussiana:"
   ]
  },
  {
   "cell_type": "code",
   "execution_count": 15,
   "metadata": {},
   "outputs": [
    {
     "data": {
      "text/plain": [
       "array([ 0.33368533,  0.41073337,  0.02582788, -0.76624666,  0.39158133])"
      ]
     },
     "execution_count": 15,
     "metadata": {},
     "output_type": "execute_result"
    }
   ],
   "source": [
    "import numpy as np\n",
    "\n",
    "myArray = np.random.randn(5)\n",
    "\n",
    "myArray"
   ]
  },
  {
   "cell_type": "markdown",
   "metadata": {},
   "source": [
    "A su vez se puede crear una Matriz Aleatoria declarando *Filas (m)* y *Columnas (n)*:"
   ]
  },
  {
   "cell_type": "code",
   "execution_count": 16,
   "metadata": {},
   "outputs": [
    {
     "data": {
      "text/plain": [
       "array([[-0.04301859, -0.15056638,  0.26955267],\n",
       "       [ 0.71007243,  1.17282124,  0.12088185],\n",
       "       [-0.11022858, -0.72951388, -0.29615881]])"
      ]
     },
     "execution_count": 16,
     "metadata": {},
     "output_type": "execute_result"
    }
   ],
   "source": [
    "import numpy as np\n",
    "\n",
    "myArray = np.random.randn(3,3)\n",
    "\n",
    "myArray"
   ]
  },
  {
   "cell_type": "markdown",
   "metadata": {},
   "source": [
    "# Función Randint"
   ]
  },
  {
   "cell_type": "markdown",
   "metadata": {},
   "source": [
    "La Función *random.randint* genera un *Array* del tamaño indicado, obteniendo un número entero extraído de una *distribución discreta uniforme* entre los Intervalos indicados (del mismo modo que trabaja *range*):"
   ]
  },
  {
   "cell_type": "code",
   "execution_count": 26,
   "metadata": {},
   "outputs": [
    {
     "data": {
      "text/plain": [
       "58"
      ]
     },
     "execution_count": 26,
     "metadata": {},
     "output_type": "execute_result"
    }
   ],
   "source": [
    "import numpy as np\n",
    "\n",
    "myArray = np.random.randint(0,100) # 0 a 99\n",
    "\n",
    "myArray"
   ]
  },
  {
   "cell_type": "markdown",
   "metadata": {},
   "source": [
    "A su vez podemos indicar si el *Array* se vuelve *Unidimensional* o *Multidimensional* definiendo el parámetro *size* como *Int* o *Tupla*:"
   ]
  },
  {
   "cell_type": "code",
   "execution_count": 27,
   "metadata": {},
   "outputs": [
    {
     "data": {
      "text/plain": [
       "array([49, 92, 56, 55, 55])"
      ]
     },
     "execution_count": 27,
     "metadata": {},
     "output_type": "execute_result"
    }
   ],
   "source": [
    "import numpy as np\n",
    "\n",
    "myArray = np.random.randint(0,100, size = 5) # 0 a 99\n",
    "\n",
    "myArray"
   ]
  },
  {
   "cell_type": "code",
   "execution_count": 28,
   "metadata": {},
   "outputs": [
    {
     "data": {
      "text/plain": [
       "array([[83, 26, 71, 14, 26],\n",
       "       [32, 79, 52, 79, 56],\n",
       "       [73, 50, 43, 33, 33],\n",
       "       [ 4, 25, 16, 69, 39],\n",
       "       [61, 42, 51, 90,  2]])"
      ]
     },
     "execution_count": 28,
     "metadata": {},
     "output_type": "execute_result"
    }
   ],
   "source": [
    "import numpy as np\n",
    "\n",
    "myArray = np.random.randint(0,100, size = (5,5)) # 0 a 99\n",
    "\n",
    "myArray"
   ]
  },
  {
   "cell_type": "markdown",
   "metadata": {},
   "source": [
    "# Función Choise"
   ]
  },
  {
   "cell_type": "markdown",
   "metadata": {},
   "source": [
    "Por último, la Función *random.choice* devuelve un *Array* del tamaño indicado, conteniendo dentro de sí una muestra de un *Array Unidimensional* cedido como argumento:"
   ]
  },
  {
   "cell_type": "code",
   "execution_count": 31,
   "metadata": {},
   "outputs": [
    {
     "data": {
      "text/plain": [
       "array(['Aquaman', 'Batman', 'Cyborg'], dtype='<U12')"
      ]
     },
     "execution_count": 31,
     "metadata": {},
     "output_type": "execute_result"
    }
   ],
   "source": [
    "import numpy as np\n",
    "\n",
    "listNames = ['Superman', 'Batman', 'Wonder Woman', 'Flash', 'Aquaman', 'Cyborg']\n",
    "\n",
    "myArray = np.random.choice(listNames, 3)\n",
    "\n",
    "myArray"
   ]
  },
  {
   "cell_type": "code",
   "execution_count": 33,
   "metadata": {},
   "outputs": [
    {
     "data": {
      "text/plain": [
       "array([['Wonder Woman', 'Flash', 'Cyborg'],\n",
       "       ['Wonder Woman', 'Superman', 'Batman'],\n",
       "       ['Batman', 'Batman', 'Cyborg']], dtype='<U12')"
      ]
     },
     "execution_count": 33,
     "metadata": {},
     "output_type": "execute_result"
    }
   ],
   "source": [
    "import numpy as np\n",
    "\n",
    "listNames = ['Superman', 'Batman', 'Wonder Woman', 'Flash', 'Aquaman', 'Cyborg']\n",
    "\n",
    "myArray = np.random.choice(listNames, (3,3))\n",
    "\n",
    "myArray"
   ]
  },
  {
   "cell_type": "code",
   "execution_count": null,
   "metadata": {},
   "outputs": [],
   "source": []
  }
 ],
 "metadata": {
  "kernelspec": {
   "display_name": "Python 3",
   "language": "python",
   "name": "python3"
  },
  "language_info": {
   "codemirror_mode": {
    "name": "ipython",
    "version": 3
   },
   "file_extension": ".py",
   "mimetype": "text/x-python",
   "name": "python",
   "nbconvert_exporter": "python",
   "pygments_lexer": "ipython3",
   "version": "3.8.3"
  }
 },
 "nbformat": 4,
 "nbformat_minor": 4
}
