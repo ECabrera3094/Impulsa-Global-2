{
 "cells": [
  {
   "cell_type": "markdown",
   "metadata": {},
   "source": [
    "# NumPy con Listas"
   ]
  },
  {
   "cell_type": "markdown",
   "metadata": {},
   "source": [
    "La primer y más básica estructura en NumPy que se estudia es el **Array**, de su traducción al inglés como *Colección*, un elemento parecido a las **Listas** en Python, que puede tener dos vertientes: el *Array Unidimensional*, tambien conocido como **Vector** y el *Array Multidimensional*, también conocido como **Matriz**.  \n",
    "\n",
    "Estas dos vertientes del **Array** se fundamentan de los mismos Vectores y Matrices que se estudian en **Álgebra Lineal**. La definición algebraica de un vector regular es \"*un conjunto de elementos ordenados en reglón*\" (igual que una Lista) y la definición de una matriz regular es \"*un arreglo rectangular cuyas dimensiones son descritas por las cantidades de filas (m) por columnas (n) que posea en dimensión*\" (igual a una Lista de Listas)."
   ]
  },
  {
   "cell_type": "markdown",
   "metadata": {},
   "source": [
    "Para crear un *Array Unidimensional* o **Vector**, primero se debe importar *'numpy'* con su característico *sobrenombre* de **'np'** que es como comúnmente se le conoce en el mundo del desarrollo:"
   ]
  },
  {
   "cell_type": "code",
   "execution_count": 17,
   "metadata": {},
   "outputs": [],
   "source": [
    "import numpy as np"
   ]
  },
  {
   "cell_type": "markdown",
   "metadata": {},
   "source": [
    "Para ejemplificar el parecido con la Lista , crearemos una Lista con cinco elementos y con base a ese conjunto de elementos, crearemos el *Array Unidimensional* llamando a la Función *'np.array(lista)'*:"
   ]
  },
  {
   "cell_type": "code",
   "execution_count": 18,
   "metadata": {},
   "outputs": [
    {
     "data": {
      "text/plain": [
       "array([1, 2, 3, 4, 5])"
      ]
     },
     "execution_count": 18,
     "metadata": {},
     "output_type": "execute_result"
    }
   ],
   "source": [
    "import numpy as np\n",
    "\n",
    "myList = [1,2,3,4,5] # Lista\n",
    "\n",
    "myArray = np.array(myList) # Vector\n",
    "\n",
    "myArray # Vector Unidimensión con 5 elementos"
   ]
  },
  {
   "cell_type": "markdown",
   "metadata": {},
   "source": [
    "Como se observa al acceder al Objeto *'myArray'* podemos ver la leyenda que especifica qué tipo de Objeto es: *array([1, 2, 3, 4, 5])*\n",
    "Para corroborar esto, podemos utilizar el Método *'type()'* para ver el tipo de Objeto con el que estamos trabajando: "
   ]
  },
  {
   "cell_type": "code",
   "execution_count": 19,
   "metadata": {},
   "outputs": [
    {
     "name": "stdout",
     "output_type": "stream",
     "text": [
      "<class 'numpy.ndarray'>\n"
     ]
    }
   ],
   "source": [
    "print(type(myArray))"
   ]
  },
  {
   "cell_type": "markdown",
   "metadata": {},
   "source": [
    "Por su parte, para la creación de un *Array Multidimensional* o **Matriz** podemos implementar el mismo procedimiento pero con la diferencia de que, en lugar de trabajar con una Lista, ahora se implementará una *Lista de Listas* para formar las dimensiones de *mxn*:"
   ]
  },
  {
   "cell_type": "code",
   "execution_count": 20,
   "metadata": {},
   "outputs": [
    {
     "data": {
      "text/plain": [
       "array([[1, 2, 3],\n",
       "       [4, 5, 6],\n",
       "       [7, 8, 9]])"
      ]
     },
     "execution_count": 20,
     "metadata": {},
     "output_type": "execute_result"
    }
   ],
   "source": [
    "import numpy as np\n",
    "\n",
    "# Matriz de Dos Dimensiones a partir de una lista de listas\n",
    "myList_2 = [ [1,2,3], [4,5,6], [7,8,9] ]\n",
    "\n",
    "myArray_2 = np.array(myList_2)\n",
    "\n",
    "myArray_2"
   ]
  },
  {
   "cell_type": "markdown",
   "metadata": {},
   "source": [
    "La **Matriz** obtenida posee las dimensiones de 3x3, o sea, 3 filas por 3 columnas"
   ]
  },
  {
   "cell_type": "code",
   "execution_count": null,
   "metadata": {},
   "outputs": [],
   "source": []
  }
 ],
 "metadata": {
  "kernelspec": {
   "display_name": "Python 3",
   "language": "python",
   "name": "python3"
  },
  "language_info": {
   "codemirror_mode": {
    "name": "ipython",
    "version": 3
   },
   "file_extension": ".py",
   "mimetype": "text/x-python",
   "name": "python",
   "nbconvert_exporter": "python",
   "pygments_lexer": "ipython3",
   "version": "3.8.3"
  }
 },
 "nbformat": 4,
 "nbformat_minor": 4
}
