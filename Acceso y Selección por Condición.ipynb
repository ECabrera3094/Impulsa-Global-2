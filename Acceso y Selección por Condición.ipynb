{
 "cells": [
  {
   "cell_type": "markdown",
   "metadata": {},
   "source": [
    "# Selección de Elementos"
   ]
  },
  {
   "cell_type": "markdown",
   "metadata": {},
   "source": [
    "Al igual que las Listas que viven nativamente en Python, la selección de un elemento dentro del *Array* se hace empleando la *referencia* a su posición dentro del mismo, mediante un Índice (o *Index*). Un guiño al *Index* se vio cuando con la Función *argmin()* y *argmax()* encontramos la posición del elemento más pequeño y el más grande dentro de un *Array* respectivamente. \n",
    "\n",
    "Con todo esto en mente, se entiende que para el acceso a un elemento dentro del *Array Unidimensional* se debe especificar su *Index* mediante el uso del **Corchetes**:"
   ]
  },
  {
   "cell_type": "code",
   "execution_count": 85,
   "metadata": {},
   "outputs": [
    {
     "name": "stdout",
     "output_type": "stream",
     "text": [
      "Index[0]: 25\n",
      "Index[1]: 21\n",
      "Index[2]: 26\n",
      "Index[3]: 100\n",
      "Index[4]: 72\n",
      "Index[5]: 18\n"
     ]
    }
   ],
   "source": [
    "import numpy as np\n",
    "\n",
    "myArray = np.random.randint(1,101,6)\n",
    "\n",
    "for i in range(len(myArray)):\n",
    "    print(\"Index[{0}]: {1}\".format(i, myArray[i]))"
   ]
  },
  {
   "cell_type": "markdown",
   "metadata": {},
   "source": [
    "Para los *Arrays Multidimensionales* se implementan de nueva cuenta los **Corchetes** pero ahora especificando las posiciones primero para las *Filas* seguido de las *Columnas*. \n",
    "\n",
    "Para disponer de esto, primero se obtendrá un subelemento de la Matriz valiéndose de la notación por **Slice** que define aquí la obtención de todos los datos según una posición declarada como: *[fila_inicio : fila_final, Posicion_0]* para las *Filas* y *[Posicion_0 , columna_inicio : columna_final]* para las *Columnas*. \n",
    "\n",
    "Véase de este modo:"
   ]
  },
  {
   "cell_type": "markdown",
   "metadata": {},
   "source": [
    "\\begin{pmatrix}\n",
    "1 & 1 & 1 \\\\\n",
    "0 & 0 & 0 \\\\\n",
    "0 & 0 & 0\n",
    "\\end{pmatrix}"
   ]
  },
  {
   "cell_type": "markdown",
   "metadata": {},
   "source": [
    "\\begin{pmatrix}\n",
    "1 & 0 & 0 \\\\\n",
    "1 & 0 & 0 \\\\\n",
    "1 & 0 & 0\n",
    "\\end{pmatrix}"
   ]
  },
  {
   "cell_type": "code",
   "execution_count": 86,
   "metadata": {},
   "outputs": [
    {
     "name": "stdout",
     "output_type": "stream",
     "text": [
      "Matriz: \n",
      " [[91 34 73]\n",
      " [89 46 30]]\n",
      "Index[0][0]: 91\n",
      "Index[0][1]: 34\n",
      "Index[0][2]: 73\n",
      "Index[1][0]: 89\n",
      "Index[1][1]: 46\n",
      "Index[1][2]: 30\n"
     ]
    }
   ],
   "source": [
    "import numpy as np\n",
    "\n",
    "myArray = np.random.randint(1,101,6)\n",
    "\n",
    "myArray = np.reshape(myArray, (2,3))\n",
    "\n",
    "print(\"Matriz: \\n\", myArray, sep=\" \")\n",
    "    \n",
    "myRow = len(myArray[:, 0])  # Total de Filas\n",
    "\n",
    "myColumn = len(myArray[0, :]) # Total de Columnas\n",
    "\n",
    "for i in range(myRow):\n",
    "    for j in range(myColumn):\n",
    "        print(\"Index[{0}][{1}]: {2}\".format(i, j, myArray[i][j]))"
   ]
  },
  {
   "cell_type": "markdown",
   "metadata": {},
   "source": [
    "Es de recalcar que la selección por **Slice** funciona tanto para *Arrays Unidimensionales * (**Array[Index_inicio : Index_final -1]**) así como *Arrays Multidimensionales* (**Array[Index_inicio : Index_final -1, Index_inicio : Index_final -1]**) como vimos en el ejemplo anterior. Dependerá de la lógica del programador el cuál y cómo desea implementar la selección de un único elemento o por subelementos."
   ]
  },
  {
   "cell_type": "markdown",
   "metadata": {},
   "source": [
    "# Selección de Elementos por Condición"
   ]
  },
  {
   "cell_type": "markdown",
   "metadata": {},
   "source": [
    "Una característica particular de los *Arrays* es que si se le aplica una **Condicional** o **Comparación** siempre se obtiene *un nuevo Array* donde todos sus valores internos son del Tipo *Boolean*. Para ejemplificar lo anterior, del **Vector** con 6 elementos entre los números de 1 y 100, se obtendrán como *True* solo aquellos que sean mayores o igual a 50: "
   ]
  },
  {
   "cell_type": "code",
   "execution_count": 87,
   "metadata": {},
   "outputs": [
    {
     "name": "stdout",
     "output_type": "stream",
     "text": [
      "Mi Vector:  [78  5 15 72 72  2]\n",
      "Mayores de 50: [ True False False  True  True False]\n"
     ]
    }
   ],
   "source": [
    "import numpy as np\n",
    "\n",
    "myArray = np.random.randint(1,101,6)\n",
    "\n",
    "booleanArray = myArray >= 50\n",
    "\n",
    "print(\"Mi Vector: \", myArray)\n",
    "\n",
    "print(\"Mayores de 50:\", booleanArray)"
   ]
  },
  {
   "cell_type": "markdown",
   "metadata": {},
   "source": [
    "Pero si a un *Array* existente (*como myArray*) se le asigna un Vector de Booleanos (*o sea newArray*), el resultado es un nuevo Vector pero ahora con los elementos a los que se les aplicó la **Condicional** o **Comparación**:"
   ]
  },
  {
   "cell_type": "code",
   "execution_count": 88,
   "metadata": {},
   "outputs": [
    {
     "name": "stdout",
     "output_type": "stream",
     "text": [
      "Mayores de 50: [83 95 92 88]\n"
     ]
    }
   ],
   "source": [
    "import numpy as np\n",
    "\n",
    "myArray = np.random.randint(1,101,6)\n",
    "\n",
    "booleanArray = myArray >= 50\n",
    "\n",
    "conditionalValues = myArray[booleanArray] # Esto es igual a myArray[myArray >= 50]\n",
    "\n",
    "print(\"Mayores de 50:\", conditionalValues)"
   ]
  },
  {
   "cell_type": "markdown",
   "metadata": {},
   "source": [
    "Si bien solo se obtuvieron los valores que son mayores o iguales a 50, se puede también construir múltiples **Condicional** o **Comparación** como por ejemplo con **Operadores Lógicos**:"
   ]
  },
  {
   "cell_type": "code",
   "execution_count": 90,
   "metadata": {},
   "outputs": [
    {
     "name": "stdout",
     "output_type": "stream",
     "text": [
      "Mayores de 50 y Módulo 2: [ 80 100  78]\n"
     ]
    }
   ],
   "source": [
    "import numpy as np\n",
    "\n",
    "myArray = np.random.randint(1,101,6)\n",
    "\n",
    "booleanArray = (myArray >= 50) & (myArray % 2 == 0)\n",
    "\n",
    "conditionalValues = myArray[booleanArray]\n",
    "\n",
    "print(\"Mayores de 50 y Módulo 2:\", conditionalValues)"
   ]
  },
  {
   "cell_type": "code",
   "execution_count": null,
   "metadata": {},
   "outputs": [],
   "source": []
  }
 ],
 "metadata": {
  "kernelspec": {
   "display_name": "Python 3",
   "language": "python",
   "name": "python3"
  },
  "language_info": {
   "codemirror_mode": {
    "name": "ipython",
    "version": 3
   },
   "file_extension": ".py",
   "mimetype": "text/x-python",
   "name": "python",
   "nbconvert_exporter": "python",
   "pygments_lexer": "ipython3",
   "version": "3.8.3"
  }
 },
 "nbformat": 4,
 "nbformat_minor": 4
}
