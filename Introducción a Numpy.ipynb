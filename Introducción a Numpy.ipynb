{
 "cells": [
  {
   "cell_type": "markdown",
   "metadata": {},
   "source": [
    "# Introducción a NumPy"
   ]
  },
  {
   "cell_type": "markdown",
   "metadata": {},
   "source": [
    "NumPy, el nombre corto para *Numerical Python*, es uno de los **paquetes** más importantes y poderosos para la computación numérica en Python. Debido a esto es que la mayoría de paquetes que implementan el análisis de datos usan funcionalidades y características de Numpy como *lingua franca* o *lengua vehicular*, como **scikit-learn**, **SciPy** o **Pandas**."
   ]
  },
  {
   "cell_type": "markdown",
   "metadata": {},
   "source": [
    "Agunas cosas que se podrán encontrar en NumPy son: \n",
    "\n",
    "1. Trabajo con Vectores y Matrices.\n",
    "\n",
    "2. Implementación para una rápida Álgebra Lineal, de generación de Números Random y grandes capacidades para la transformada de Fourier. \n",
    "\n",
    "3. Funcionalidades comparables a MATLAB. "
   ]
  },
  {
   "cell_type": "markdown",
   "metadata": {},
   "source": [
    "Si bien NumPy por si solo pareciese simple, tener un entendimiento de los Arrays (*Vectores y Matrices*) de NumPy, permite la integración de más herramientas para la manipulación de Datos, puesto que fue pensado para el diseño eficiente de grandes cantidades de *Vectores/Matrices* e información:\n",
    "\n",
    "1. NumPy internamente almacena la información en bloques continuos de memoria, independientemente de otros Objetos en Python. La librería de algortimos de NumPy fue escrita en el Lenguanje C, por lo que puede operar en memoria sin ningún tipo de sobrecarga.\n",
    "\n",
    "2. Las operaciones complejas en NumPy se pueden realizar sin la necesidad de Ciclos *For*.\n",
    "\n",
    "En otras palabras, la base de NumPy es generalmente de 10 a 100 veces más rápida que la contraparte pura de Python y usa menos memoria, por eso que NumPy es querido tanto por lo programadores avanzados como en la Comunidad Científica. "
   ]
  }
 ],
 "metadata": {
  "kernelspec": {
   "display_name": "Python 3",
   "language": "python",
   "name": "python3"
  },
  "language_info": {
   "codemirror_mode": {
    "name": "ipython",
    "version": 3
   },
   "file_extension": ".py",
   "mimetype": "text/x-python",
   "name": "python",
   "nbconvert_exporter": "python",
   "pygments_lexer": "ipython3",
   "version": "3.8.3"
  }
 },
 "nbformat": 4,
 "nbformat_minor": 4
}
