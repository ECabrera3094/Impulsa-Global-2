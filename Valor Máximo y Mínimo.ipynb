{
 "cells": [
  {
   "cell_type": "markdown",
   "metadata": {},
   "source": [
    "# Valores Máximos y Mínimos"
   ]
  },
  {
   "cell_type": "markdown",
   "metadata": {},
   "source": [
    "A menudo, cuando se tiene contemplado el manejo y trabajo de grandes cantidades de números, siempre es recomendable comenzar a desarrollar estadística básica para los datos en cuestión. Comensaremos con lo básico: la **Sumatoria** de los elementos en un *Array* con la Función *sum()*. "
   ]
  },
  {
   "cell_type": "code",
   "execution_count": 65,
   "metadata": {},
   "outputs": [
    {
     "name": "stdout",
     "output_type": "stream",
     "text": [
      "Sumatoria:  51\n"
     ]
    }
   ],
   "source": [
    "import numpy as np\n",
    "\n",
    "listNumbers = [10,9,8,9,8,7]\n",
    "\n",
    "myArray = np.array(listNumbers)\n",
    "\n",
    "intSum = myArray.sum() # Sumatoria\n",
    "\n",
    "print(\"Sumatoria: \", intSum)"
   ]
  },
  {
   "cell_type": "markdown",
   "metadata": {},
   "source": [
    "Del mismo *Array* podemos obtener el **Producto** de los emenetos dentro de él con la Función *prod()*:"
   ]
  },
  {
   "cell_type": "code",
   "execution_count": 66,
   "metadata": {},
   "outputs": [
    {
     "name": "stdout",
     "output_type": "stream",
     "text": [
      "Producto:  362880\n"
     ]
    }
   ],
   "source": [
    "intProd = myArray.prod() # Producto\n",
    "\n",
    "print(\"Producto: \", intProd)"
   ]
  },
  {
   "cell_type": "markdown",
   "metadata": {},
   "source": [
    "Es útil también conocer la **Media Aritmética** (Promedio) del *Array*. Esto se logra con la Función *mean()* de NumPy:"
   ]
  },
  {
   "cell_type": "code",
   "execution_count": 67,
   "metadata": {},
   "outputs": [
    {
     "name": "stdout",
     "output_type": "stream",
     "text": [
      "Producto:  8.5\n"
     ]
    }
   ],
   "source": [
    "intAverage = myArray.mean() # Media Aritmetica\n",
    "\n",
    "print(\"Producto: \", intAverage)"
   ]
  },
  {
   "cell_type": "markdown",
   "metadata": {},
   "source": [
    "Por el momento el *Array* es pequeño con apenas 6 elementos dentro pero, en el imaginario de que fuesen 10,000; sería eficiente advertir cuáles es el elemento más chico y el más grande. La Función *min()* y *max()* ofrecen esta posibilidad de manera rápida:"
   ]
  },
  {
   "cell_type": "code",
   "execution_count": 68,
   "metadata": {},
   "outputs": [
    {
     "name": "stdout",
     "output_type": "stream",
     "text": [
      "Minimo:  7\n",
      "Maximo:  10\n"
     ]
    }
   ],
   "source": [
    "intMin = myArray.min()\n",
    "\n",
    "print(\"Minimo: \", intMin) # Valor Minimo\n",
    "\n",
    "intMax = myArray.max()\n",
    "\n",
    "print(\"Maximo: \", intMax) # Valor Maximo"
   ]
  },
  {
   "cell_type": "markdown",
   "metadata": {},
   "source": [
    "Hasta aquí tenemos los elementos pero de igual manera queremos saber en qué posición del *Array* están por lo que NumPy también consagra *argmin()* y *argmax()* para conocer la posición (o *Index*) del elemento a buscar:"
   ]
  },
  {
   "cell_type": "code",
   "execution_count": 69,
   "metadata": {},
   "outputs": [
    {
     "name": "stdout",
     "output_type": "stream",
     "text": [
      "Posición Min[ 5 ]\n",
      "Posición Max[ 0 ]\n"
     ]
    }
   ],
   "source": [
    "intIndexMin = myArray.argmin()\n",
    "\n",
    "print(\"Posición Min[\", intIndexMin, \"]\")\n",
    "\n",
    "intIndexMax = myArray.argmax()\n",
    "\n",
    "print(\"Posición Max[\", intIndexMax, \"]\")"
   ]
  },
  {
   "cell_type": "markdown",
   "metadata": {},
   "source": [
    "# Desviación Estandar"
   ]
  },
  {
   "cell_type": "markdown",
   "metadata": {},
   "source": [
    "Con todo lo previamente visto se podría encontrar algo más complejo, como la **Desviación Estandar** de un conjunto de elementos como los del *Array* anterior. En estadística, la **Desviación Estandar** es, a groso modo, una medida de hasta qué punto se distribuyen los números *individuales*. Específicamente indica qué tan lejos están en promedio los valores medidos individuales del valor esperado (valor medio)."
   ]
  },
  {
   "attachments": {
    "distrib-normal3.jpg": {
     "image/jpeg": "[encoded data removed]"
    }
   },
   "cell_type": "markdown",
   "metadata": {},
   "source": [
    "![distrib-normal3.jpg](attachment:distrib-normal3.jpg)"
   ]
  },
  {
   "cell_type": "markdown",
   "metadata": {},
   "source": [
    "Una **Desviación Estandar** baja indica que los resultados son muy parecidos mientras que si es alta existe una gran variación y por lo tanto una menor exactitud. su fórmula es la siguiente:"
   ]
  },
  {
   "cell_type": "markdown",
   "metadata": {},
   "source": [
    "$ \\sigma = \\sqrt{ \\frac{ \\Sigma(x - \\vec{x})^2 }{ N } } $"
   ]
  },
  {
   "cell_type": "markdown",
   "metadata": {},
   "source": [
    "Donde $ \\vec{x} $ es la media aritmética de los valores analizados. La resolución de la fórmula sería la siguiente:"
   ]
  },
  {
   "cell_type": "code",
   "execution_count": 70,
   "metadata": {},
   "outputs": [
    {
     "name": "stdout",
     "output_type": "stream",
     "text": [
      "Desviacion Estandar:  0.9574271077563381\n"
     ]
    }
   ],
   "source": [
    "import numpy as np\n",
    "import math\n",
    "\n",
    "listNumbers = [10,9,8,9,8,7]\n",
    "\n",
    "myArray = np.array(listNumbers) # Arreglo\n",
    "\n",
    "intAverage = myArray.mean() # Media Aritmetica\n",
    "\n",
    "intN = len(myArray) # Total de Elementos\n",
    "\n",
    "flt_stddev = sum( [ ((x-intAverage) ** 2) for x in myArray ] ) / intN\n",
    "\n",
    "flt_stddev = math.sqrt(flt_stddev)\n",
    "\n",
    "print(\"Desviacion Estandar: \", flt_stddev)"
   ]
  },
  {
   "cell_type": "markdown",
   "metadata": {},
   "source": [
    "Oh también se podría utilizar la función *std()* incorporada en NumPy y obtener el mismo resultado:"
   ]
  },
  {
   "cell_type": "code",
   "execution_count": 71,
   "metadata": {},
   "outputs": [
    {
     "data": {
      "text/plain": [
       "0.9574271077563381"
      ]
     },
     "execution_count": 71,
     "metadata": {},
     "output_type": "execute_result"
    }
   ],
   "source": [
    "import numpy as np\n",
    "\n",
    "listNumbers = [10,9,8,9,8,7]\n",
    "\n",
    "myArray = np.array(listNumbers)\n",
    "\n",
    "flt_stddev = myArray.std()\n",
    "\n",
    "flt_stddev"
   ]
  },
  {
   "cell_type": "code",
   "execution_count": null,
   "metadata": {},
   "outputs": [],
   "source": []
  },
  {
   "cell_type": "markdown",
   "metadata": {},
   "source": [
    "https://towardsdatascience.com/write-markdown-latex-in-the-jupyter-notebook-10985edb91fd"
   ]
  }
 ],
 "metadata": {
  "kernelspec": {
   "display_name": "Python 3",
   "language": "python",
   "name": "python3"
  },
  "language_info": {
   "codemirror_mode": {
    "name": "ipython",
    "version": 3
   },
   "file_extension": ".py",
   "mimetype": "text/x-python",
   "name": "python",
   "nbconvert_exporter": "python",
   "pygments_lexer": "ipython3",
   "version": "3.8.3"
  }
 },
 "nbformat": 4,
 "nbformat_minor": 4
}
